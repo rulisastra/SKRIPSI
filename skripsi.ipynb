{
 "cells": [
  {
   "cell_type": "code",
   "execution_count": 1,
   "metadata": {},
   "outputs": [],
   "source": [
    "import math\n",
    "import pandas as pd"
   ]
  },
  {
   "cell_type": "code",
   "execution_count": 2,
   "metadata": {},
   "outputs": [],
   "source": [
    "df1=pd.read_csv('new/train.csv')\n",
    "df2=pd.read_csv('new/test.csv')"
   ]
  },
  {
   "cell_type": "code",
   "execution_count": 3,
   "metadata": {
    "scrolled": false
   },
   "outputs": [
    {
     "name": "stdout",
     "output_type": "stream",
     "text": [
      "     Unnamed: 0         timestamp       Qmc       Qhv       Qlv       Qmv  \\\n",
      "0             1  09/10/2015 12:00  0.681205  0.409015  0.781223  0.757802   \n",
      "1             2  09/10/2015 16:00  0.833072  0.534224  0.919577  0.902939   \n",
      "2             3  07/10/2015 15:00  0.899592  0.577629  0.894871  0.899466   \n",
      "3             4  05/10/2015 02:00  0.030750  0.028381  0.048219  0.043682   \n",
      "4             5  10/10/2015 05:00  0.060872  0.011686  0.014824  0.021236   \n",
      "..          ...               ...       ...       ...       ...       ...   \n",
      "121         122  07/10/2015 10:00  0.796360  0.539232  0.746635  0.763749   \n",
      "122         123  04/10/2015 01:00  0.080013  0.053422  0.093202  0.089245   \n",
      "123         124  08/10/2015 18:00  0.751804  0.512521  0.709831  0.725120   \n",
      "124         125  09/10/2015 21:00  0.399749  0.282137  0.746635  0.670886   \n",
      "125         126  05/10/2015 10:00  0.667085  0.437396  0.658034  0.663215   \n",
      "\n",
      "     Label  \n",
      "0        2  \n",
      "1        3  \n",
      "2        3  \n",
      "3        0  \n",
      "4        0  \n",
      "..     ...  \n",
      "121      3  \n",
      "122      0  \n",
      "123      2  \n",
      "124      2  \n",
      "125      2  \n",
      "\n",
      "[126 rows x 7 columns]\n"
     ]
    }
   ],
   "source": [
    "print(df1)"
   ]
  },
  {
   "cell_type": "code",
   "execution_count": 4,
   "metadata": {
    "scrolled": true
   },
   "outputs": [],
   "source": [
    "#print(df2)"
   ]
  },
  {
   "cell_type": "code",
   "execution_count": 5,
   "metadata": {},
   "outputs": [
    {
     "name": "stdout",
     "output_type": "stream",
     "text": [
      "     Unnamed: 0         timestamp       Qmc       Qhv       Qlv       Qmv  \\\n",
      "28           29  09/10/2015 04:00  0.000000  0.001669  0.001874  0.000000   \n",
      "96           97  04/10/2015 03:00  0.001255  0.006678  0.020787  0.015328   \n",
      "8             9  06/10/2015 04:00  0.001569  0.013356  0.004600  0.003566   \n",
      "92           93  09/10/2015 03:00  0.002196  0.006678  0.019424  0.014433   \n",
      "63           64  05/10/2015 04:00  0.003138  0.018364  0.004089  0.003947   \n",
      "..          ...               ...       ...       ...       ...       ...   \n",
      "119         120  09/10/2015 10:00  0.933166  0.549249  0.947010  0.942450   \n",
      "120         121  10/10/2015 17:00  0.951992  0.664441  0.924178  0.939779   \n",
      "6             7  09/10/2015 18:00  0.953248  0.524207  0.867439  0.881809   \n",
      "65           66  08/10/2015 08:00  0.962975  0.662771  1.000000  1.000000   \n",
      "105         106  09/10/2015 08:00  1.000000  0.691152  0.950417  0.970830   \n",
      "\n",
      "     Label  \n",
      "28       0  \n",
      "96       0  \n",
      "8        0  \n",
      "92       0  \n",
      "63       0  \n",
      "..     ...  \n",
      "119      3  \n",
      "120      3  \n",
      "6        3  \n",
      "65       3  \n",
      "105      3  \n",
      "\n",
      "[126 rows x 7 columns]\n"
     ]
    }
   ],
   "source": [
    "df1=df1.sort_values(by=['Qmc'])\n",
    "print(df1)"
   ]
  },
  {
   "cell_type": "code",
   "execution_count": 6,
   "metadata": {},
   "outputs": [],
   "source": [
    "def freq(table, col, v):\n",
    "    \"\"\" Returns counts of variant _v_\n",
    "        in column _col_ of table _table_.\n",
    "    \"\"\"\n",
    "    return table[col].count(v)"
   ]
  },
  {
   "cell_type": "code",
   "execution_count": 7,
   "metadata": {},
   "outputs": [],
   "source": [
    "def getDoughertyBin(length):\n",
    "    log_result = math.log(int(length), 10)\n",
    "    nilai = 1 if log_result < 1 else math.floor(2*log_result)\n",
    "    return float(nilai)"
   ]
  },
  {
   "cell_type": "code",
   "execution_count": 8,
   "metadata": {},
   "outputs": [
    {
     "data": {
      "text/plain": [
       "4.0"
      ]
     },
     "execution_count": 8,
     "metadata": {},
     "output_type": "execute_result"
    }
   ],
   "source": [
    "getDoughertyBin(126)"
   ]
  }
 ],
 "metadata": {
  "kernelspec": {
   "display_name": "Python 3",
   "language": "python",
   "name": "python3"
  },
  "language_info": {
   "codemirror_mode": {
    "name": "ipython",
    "version": 3
   },
   "file_extension": ".py",
   "mimetype": "text/x-python",
   "name": "python",
   "nbconvert_exporter": "python",
   "pygments_lexer": "ipython3",
   "version": "3.7.6"
  }
 },
 "nbformat": 4,
 "nbformat_minor": 4
}
